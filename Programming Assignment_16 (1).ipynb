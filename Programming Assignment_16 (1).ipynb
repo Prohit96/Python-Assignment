{
 "cells": [
  {
   "cell_type": "markdown",
   "id": "e304dc88",
   "metadata": {},
   "source": [
    "## Python Basic Programming Assignment 16\n",
    "---------------------"
   ]
  },
  {
   "cell_type": "markdown",
   "id": "d82eeee0",
   "metadata": {},
   "source": [
    "### 1. Write a function that stutters a word as if someone is struggling to read it. The first two letters are repeated twice with an ellipsis ... and space after each, and then the word is pronounced with a question mark ?. Examples stutter('incredible') ➞ 'in... in... incredible?' stutter('enthusiastic') ➞ 'en... en... enthusiastic?' stutter('outstanding') ➞ 'ou... ou... outstanding?'\n",
    "\n",
    "### Hint :- Assume all input is in lower case and at least two characters long."
   ]
  },
  {
   "cell_type": "code",
   "execution_count": 2,
   "id": "189ccccd",
   "metadata": {},
   "outputs": [
    {
     "name": "stdout",
     "output_type": "stream",
     "text": [
      "Enter any word: hi hello\n",
      "hi... hi... hi hello\n"
     ]
    }
   ],
   "source": [
    "def stutter(word):\n",
    "    return (word[0]+word[1]+\"... \"+word[0]+word[1]+\"... \"+word)\n",
    "a=input(\"Enter any word: \")\n",
    "print(stutter(a))"
   ]
  },
  {
   "cell_type": "markdown",
   "id": "47e1bd41",
   "metadata": {},
   "source": [
    "\n",
    "### 2. Create a function that takes an angle in radians and returns the corresponding angle in degrees rounded to one decimal place."
   ]
  },
  {
   "cell_type": "code",
   "execution_count": 3,
   "id": "0950789c",
   "metadata": {},
   "outputs": [
    {
     "name": "stdout",
     "output_type": "stream",
     "text": [
      "Enter any angle in radians: 65\n",
      "Equivalent angle in degree is: 7445.45\n"
     ]
    }
   ],
   "source": [
    "def r2d(n):\n",
    "    return (n*360*7/22)\n",
    "n=float(input(\"Enter any angle in radians: \"))\n",
    "print(\"Equivalent angle in degree is: {}\".format(round(r2d(n),2)))"
   ]
  },
  {
   "cell_type": "markdown",
   "id": "07cad4d9",
   "metadata": {},
   "source": [
    "\n",
    "### 3. In this challenge, establish if a given integer num is a Curzon number. If 1 plus 2 elevated to num is exactly divisible by 1 plus 2 multiplied by num, then num is a Curzon number. Given a non-negative integer num, implement a function that returns True if num is a Curzon number, or False otherwise."
   ]
  },
  {
   "cell_type": "code",
   "execution_count": 4,
   "id": "994b706b",
   "metadata": {},
   "outputs": [
    {
     "name": "stdout",
     "output_type": "stream",
     "text": [
      "Enter any number: 23\n",
      "False\n"
     ]
    }
   ],
   "source": [
    "import math\n",
    "def cur(n):\n",
    "    if((1+pow(2,n))%(1+2*n)==0):\n",
    "        return True\n",
    "    else:\n",
    "        return False\n",
    "\n",
    "n=int(input(\"Enter any number: \"))\n",
    "print(cur(n))"
   ]
  },
  {
   "cell_type": "markdown",
   "id": "cfad2cfc",
   "metadata": {},
   "source": [
    "\n",
    "### 4. Given the side length x find the area of a hexagon."
   ]
  },
  {
   "cell_type": "code",
   "execution_count": 6,
   "id": "48eeec13",
   "metadata": {},
   "outputs": [
    {
     "name": "stdout",
     "output_type": "stream",
     "text": [
      "Enter side length of hexagon: 7\n",
      "Area: 127.31\n"
     ]
    }
   ],
   "source": [
    "import math\n",
    "def hexagonArea(s):\n",
    "    return ((3 * math.sqrt(3) *\n",
    "            (s * s)) / 2);\n",
    "if __name__ == \"__main__\" :\n",
    "    s = float(input(\"Enter side length of hexagon: \"))\n",
    "    print(\"Area:\",\"{0:.2f}\".format(hexagonArea(s)))"
   ]
  },
  {
   "cell_type": "markdown",
   "id": "dbc79e02",
   "metadata": {},
   "source": [
    "\n",
    "### 5. Create a function that returns a base-2 (binary) representation of a base-10 (decimal) string number. To convert is simple: ((2) means base-2 and (10) means base-10) 010101001(2) = 1 + 8 + 32 + 128."
   ]
  },
  {
   "cell_type": "code",
   "execution_count": 10,
   "id": "70e78dd3",
   "metadata": {},
   "outputs": [
    {
     "name": "stdout",
     "output_type": "stream",
     "text": [
      "Enter any binary number: 128\n",
      "16\n"
     ]
    }
   ],
   "source": [
    "def binaryToDecimal(n):\n",
    "    num = n;\n",
    "    dec_value = 0;\n",
    "    base = 1;\n",
    "    temp = num;\n",
    "    while(temp):\n",
    "        last_digit = temp % 10;\n",
    "        temp = int(temp / 10);\n",
    "        dec_value += last_digit * base;\n",
    "        base = base * 2;\n",
    "    return dec_value;\n",
    " \n",
    "# Driver Code\n",
    "num = int(input(\"Enter any binary number: \"))\n",
    "print(binaryToDecimal(num));"
   ]
  },
  {
   "cell_type": "code",
   "execution_count": null,
   "id": "f0366750",
   "metadata": {},
   "outputs": [],
   "source": []
  }
 ],
 "metadata": {
  "kernelspec": {
   "display_name": "Python 3 (ipykernel)",
   "language": "python",
   "name": "python3"
  },
  "language_info": {
   "codemirror_mode": {
    "name": "ipython",
    "version": 3
   },
   "file_extension": ".py",
   "mimetype": "text/x-python",
   "name": "python",
   "nbconvert_exporter": "python",
   "pygments_lexer": "ipython3",
   "version": "3.9.13"
  }
 },
 "nbformat": 4,
 "nbformat_minor": 5
}
