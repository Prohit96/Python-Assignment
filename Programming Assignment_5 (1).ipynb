{
 "cells": [
  {
   "cell_type": "markdown",
   "id": "4ac9602a",
   "metadata": {},
   "source": [
    "## Python Basic Programming Assignment - 5\n",
    "--------------\n"
   ]
  },
  {
   "cell_type": "markdown",
   "id": "fdaeee06",
   "metadata": {},
   "source": [
    "### 1. Write a Python Program to Find LCM?"
   ]
  },
  {
   "cell_type": "code",
   "execution_count": 1,
   "id": "1ce83cd0",
   "metadata": {},
   "outputs": [
    {
     "name": "stdout",
     "output_type": "stream",
     "text": [
      "Enter the numbers separated by space: 2 5\n",
      "LCM of 5 and 2 is 10\n"
     ]
    }
   ],
   "source": [
    "a,b=[int(n) for n in input(\"Enter the numbers separated by space: \").split()]\n",
    "if(a>b):\n",
    "    pass\n",
    "else:\n",
    "    a=a+b\n",
    "    b=a-b\n",
    "    a=a-b\n",
    "i=1\n",
    "while(i):\n",
    "    if((a*i)%b==0):\n",
    "        print(\"LCM of {} and {} is {}\".format(a,b,a*i))\n",
    "        break\n",
    "    else:\n",
    "        i=i+1  "
   ]
  },
  {
   "cell_type": "markdown",
   "id": "2f459cdf",
   "metadata": {},
   "source": [
    "### 2. Write a Python Program to Find HCF?"
   ]
  },
  {
   "cell_type": "code",
   "execution_count": 3,
   "id": "c68dde60",
   "metadata": {},
   "outputs": [
    {
     "name": "stdout",
     "output_type": "stream",
     "text": [
      "Enter the numbers separated by space: 6 24\n",
      "HCF of 24 and 6 is 6\n"
     ]
    }
   ],
   "source": [
    "a,b=[int(n) for n in input(\"Enter the numbers separated by space: \").split()]\n",
    "if(a>b):\n",
    "    pass\n",
    "else:\n",
    "    a=a+b\n",
    "    b=a-b\n",
    "    a=a-b\n",
    "i=1\n",
    "while(i):\n",
    "    if(a%(b-i+1)==0 and b%(b-i+1)==0):\n",
    "        print(\"HCF of {} and {} is {}\".format(a,b,(b-i+1)))\n",
    "        break\n",
    "    else:\n",
    "        i=i+1"
   ]
  },
  {
   "cell_type": "markdown",
   "id": "d2c29370",
   "metadata": {},
   "source": [
    "### 3. Write a Python Program to Convert Decimal to Binary, Octal and Hexadecimal?"
   ]
  },
  {
   "cell_type": "code",
   "execution_count": 5,
   "id": "d58e7e3f",
   "metadata": {},
   "outputs": [
    {
     "name": "stdout",
     "output_type": "stream",
     "text": [
      "Enter a decimal number: 66\n",
      "Binary number is 0b1000010\n",
      "Octal number is 0o102\n",
      "Hexadecimal number is 0x42\n"
     ]
    }
   ],
   "source": [
    "n=int(input(\"Enter a decimal number: \"))\n",
    "print(\"Binary number is {}\".format(bin(n)))\n",
    "print(\"Octal number is {}\".format(oct(n)))\n",
    "print(\"Hexadecimal number is {}\".format(hex(n)))"
   ]
  },
  {
   "cell_type": "markdown",
   "id": "2a16c5fd",
   "metadata": {},
   "source": [
    "### 4. Write a Python Program To Find ASCII value of a character?"
   ]
  },
  {
   "cell_type": "code",
   "execution_count": 6,
   "id": "030bd081",
   "metadata": {},
   "outputs": [
    {
     "name": "stdout",
     "output_type": "stream",
     "text": [
      "Enter any character: A\n",
      "ASCII value is= 65\n"
     ]
    }
   ],
   "source": [
    "a=input(\"Enter any character: \")\n",
    "print(\"ASCII value is= {}\".format(ord(a)))"
   ]
  },
  {
   "cell_type": "markdown",
   "id": "226778a0",
   "metadata": {},
   "source": [
    "### 5. Write a Python Program to Make a Simple Calculator with 4 basic mathematical operations?"
   ]
  },
  {
   "cell_type": "code",
   "execution_count": 7,
   "id": "20fd92ee",
   "metadata": {},
   "outputs": [
    {
     "name": "stdout",
     "output_type": "stream",
     "text": [
      "Enter two numbers separated by space: 10 8\n",
      "Sum is= 18\n",
      "Subtraction is= 2\n",
      "Multiplication is= 80\n",
      "Division is= 1.25\n"
     ]
    }
   ],
   "source": [
    "a,b=[int(n) for n in input(\"Enter two numbers separated by space: \").split()]\n",
    "print(\"Sum is= {}\".format(a+b))\n",
    "print(\"Subtraction is= {}\".format(a-b))\n",
    "print(\"Multiplication is= {}\".format(a*b))\n",
    "print(\"Division is= {}\".format(a/b))"
   ]
  },
  {
   "cell_type": "code",
   "execution_count": null,
   "id": "2179c067",
   "metadata": {},
   "outputs": [],
   "source": []
  }
 ],
 "metadata": {
  "kernelspec": {
   "display_name": "Python 3 (ipykernel)",
   "language": "python",
   "name": "python3"
  },
  "language_info": {
   "codemirror_mode": {
    "name": "ipython",
    "version": 3
   },
   "file_extension": ".py",
   "mimetype": "text/x-python",
   "name": "python",
   "nbconvert_exporter": "python",
   "pygments_lexer": "ipython3",
   "version": "3.9.13"
  }
 },
 "nbformat": 4,
 "nbformat_minor": 5
}
